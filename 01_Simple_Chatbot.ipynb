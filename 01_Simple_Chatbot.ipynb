{
 "cells": [
  {
   "cell_type": "code",
   "execution_count": 22,
   "id": "8e5216af",
   "metadata": {},
   "outputs": [],
   "source": [
    "# Simple Chatbot using BlenderBot 400M Distill\n",
    "# A lightweight command-line chatbot built with Hugging Face Transformers.\n",
    "# Type your message and chat with the AI! Type 'quit' to exit."
   ]
  },
  {
   "cell_type": "code",
   "execution_count": 23,
   "id": "f60a9835-299c-460d-bfeb-7ff5dbf11c1c",
   "metadata": {},
   "outputs": [],
   "source": [
    "#!pip install --upgrade ipywidgets"
   ]
  },
  {
   "cell_type": "code",
   "execution_count": 24,
   "id": "664f2bbe-5dc2-4fc2-857b-67cb059098c7",
   "metadata": {},
   "outputs": [],
   "source": [
    "#!pip install transformers"
   ]
  },
  {
   "cell_type": "code",
   "execution_count": 25,
   "id": "d51f4598-9f8b-487e-a7d7-2adcdf9c1541",
   "metadata": {},
   "outputs": [],
   "source": [
    "#!pip install sentencepiece"
   ]
  },
  {
   "cell_type": "code",
   "execution_count": 26,
   "id": "abd5757c-a482-4d91-ac95-5018cde38f23",
   "metadata": {},
   "outputs": [],
   "source": [
    "\n",
    "\n",
    "\n",
    "# ---- Required installations (run once is enough) ----\n",
    "#!pip install --upgrade torch torchvision torchaudio --index-url https://download.pytorch.org/whl/cpu\n",
    "#!pip install --upgrade transformers sentencepiece ipywidgets\n",
    "#!pip install torch>=2.6 torchvision>=0.16 torchaudio>=2.6 --upgrade\n",
    "\n"
   ]
  },
  {
   "cell_type": "code",
   "execution_count": 27,
   "id": "073efb31",
   "metadata": {},
   "outputs": [],
   "source": [
    "# Load the model\n",
    "from transformers import AutoTokenizer, AutoModelForSeq2SeqLM\n",
    "\n",
    "model_name = \"facebook/blenderbot-400M-distill\"\n",
    "\n",
    "tokenizer = AutoTokenizer.from_pretrained(model_name)\n",
    "model = AutoModelForSeq2SeqLM.from_pretrained(model_name)\n"
   ]
  },
  {
   "cell_type": "code",
   "execution_count": null,
   "id": "0c2f7652-3b67-4e10-9d61-9005122b65d3",
   "metadata": {},
   "outputs": [
    {
     "name": "stdout",
     "output_type": "stream",
     "text": [
      "Chatbot: Hi! Type 'quit' for ending the conversation.\n",
      "\n",
      "Chatbot: Hello! How are you doing today? I just got back from a walk with my dog.\n",
      "\n",
      "Chatbot: I'm glad to hear that. I hope you have a great rest of your evening.\n",
      "\n",
      "Chatbot: Do you have any pets? I have a dog and a cat. I love them.\n",
      "\n",
      "Chatbot: You are welcome.  I hope you have a great day.  It was nice talking to you.\n",
      "\n"
     ]
    }
   ],
   "source": [
    "# Chat function\n",
    "def chat_with_bot():\n",
    "    print(\"Chatbot: Hi! Type 'quit' for ending the conversation.\\n\")\n",
    "    while True:\n",
    "        input_text = input(\"You: \")\n",
    "\n",
    "        if input_text.lower() in [\"quit\", \"exit\", \"bye\"]:\n",
    "            print(\"Chatbot: Goodbye..!\")\n",
    "            break\n",
    "\n",
    "        inputs = tokenizer(input_text, return_tensors=\"pt\")\n",
    "\n",
    "        outputs = model.generate(\n",
    "            **inputs,\n",
    "            max_new_tokens=150\n",
    "        )\n",
    "\n",
    "        response = tokenizer.decode(outputs[0], skip_special_tokens=True).strip()\n",
    "        print(f\"Chatbot: {response}\\n\")\n",
    "\n",
    "if __name__ == \"__main__\":\n",
    "    chat_with_bot()\n"
   ]
  },
  {
   "cell_type": "code",
   "execution_count": null,
   "id": "49ddf8e9-18b8-4dfd-9fce-570777d6f7a1",
   "metadata": {},
   "outputs": [],
   "source": []
  }
 ],
 "metadata": {
  "kernelspec": {
   "display_name": "base",
   "language": "python",
   "name": "python3"
  },
  "language_info": {
   "codemirror_mode": {
    "name": "ipython",
    "version": 3
   },
   "file_extension": ".py",
   "mimetype": "text/x-python",
   "name": "python",
   "nbconvert_exporter": "python",
   "pygments_lexer": "ipython3",
   "version": "3.12.7"
  }
 },
 "nbformat": 4,
 "nbformat_minor": 5
}
